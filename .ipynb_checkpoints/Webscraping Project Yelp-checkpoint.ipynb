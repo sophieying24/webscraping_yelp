{
 "cells": [
  {
   "cell_type": "code",
   "execution_count": 116,
   "metadata": {},
   "outputs": [],
   "source": [
    "%matplotlib inline"
   ]
  },
  {
   "cell_type": "code",
   "execution_count": 119,
   "metadata": {},
   "outputs": [],
   "source": [
    "import numpy as np\n",
    "import pandas as pd\n",
    "import math\n",
    "from scipy import stats\n",
    "import re\n",
    "from matplotlib import pyplot as plt\n",
    "plt.style.use('ggplot')"
   ]
  },
  {
   "cell_type": "code",
   "execution_count": 381,
   "metadata": {},
   "outputs": [],
   "source": [
    "df = pd.read_csv('yelp_combined.csv')\n",
    "\n",
    "############ Delete later ##################\n",
    "df.dropna(subset=['recent_reviews','avg_rating', 'category'], inplace=True)\n",
    "df = df[df.num_reviews >= 10]\n",
    "df.recent_reviews = df.recent_reviews.map(lambda x: ast.literal_eval(x))\n",
    "df.business_hours = df.business_hours.map(lambda x: ast.literal_eval(x))\n",
    "df.covid_services = df.covid_services.map(lambda x: ast.literal_eval(x))\n",
    "df.category = df.category.map(lambda x: x.split(','))"
   ]
  },
  {
   "cell_type": "code",
   "execution_count": 785,
   "metadata": {},
   "outputs": [],
   "source": [
    "df = pd.read_csv('yelp_combined.csv')"
   ]
  },
  {
   "cell_type": "code",
   "execution_count": 786,
   "metadata": {},
   "outputs": [
    {
     "data": {
      "text/html": [
       "<div>\n",
       "<style scoped>\n",
       "    .dataframe tbody tr th:only-of-type {\n",
       "        vertical-align: middle;\n",
       "    }\n",
       "\n",
       "    .dataframe tbody tr th {\n",
       "        vertical-align: top;\n",
       "    }\n",
       "\n",
       "    .dataframe thead th {\n",
       "        text-align: right;\n",
       "    }\n",
       "</style>\n",
       "<table border=\"1\" class=\"dataframe\">\n",
       "  <thead>\n",
       "    <tr style=\"text-align: right;\">\n",
       "      <th></th>\n",
       "      <th>address</th>\n",
       "      <th>avg_rating</th>\n",
       "      <th>business_hours</th>\n",
       "      <th>category</th>\n",
       "      <th>covid_services</th>\n",
       "      <th>covid_update_time</th>\n",
       "      <th>covid_updates_text</th>\n",
       "      <th>cuisine</th>\n",
       "      <th>location</th>\n",
       "      <th>num_reviews</th>\n",
       "      <th>phone_num</th>\n",
       "      <th>price_range</th>\n",
       "      <th>recent_reviews</th>\n",
       "      <th>restaurant_name</th>\n",
       "      <th>url</th>\n",
       "    </tr>\n",
       "  </thead>\n",
       "  <tbody>\n",
       "    <tr>\n",
       "      <th>0</th>\n",
       "      <td>1283 9th Ave, San Francisco, CA 94122</td>\n",
       "      <td>4.0</td>\n",
       "      <td>{'Mon': 'Closed', 'Tue': 'Closed', 'Wed': '11:...</td>\n",
       "      <td>Sushi Bars,Japanese</td>\n",
       "      <td>{'Takeout': True}</td>\n",
       "      <td>Posted on May 27, 2020</td>\n",
       "      <td>\"We are currently open for TAKEOUT only on Wed...</td>\n",
       "      <td>japanese</td>\n",
       "      <td>San Francisco, CA</td>\n",
       "      <td>1804</td>\n",
       "      <td>(415) 566-1770</td>\n",
       "      <td>$$</td>\n",
       "      <td>[('5 star rating', '7/22/2020'), ('4 star rati...</td>\n",
       "      <td>Ebisu</td>\n",
       "      <td>https://www.yelp.com/biz/ebisu-san-francisco?o...</td>\n",
       "    </tr>\n",
       "    <tr>\n",
       "      <th>1</th>\n",
       "      <td>2450 Clement St, San Francisco, CA 94121</td>\n",
       "      <td>4.0</td>\n",
       "      <td>{'Mon': '4:00 pm - 8:30 pm', 'Tue': 'Closed', ...</td>\n",
       "      <td>Japanese,Sushi Bars</td>\n",
       "      <td>{'Delivery': True, 'Takeout': True}</td>\n",
       "      <td>Posted on April 26, 2020</td>\n",
       "      <td>\"Sorry to keep you waiting. We finally finishe...</td>\n",
       "      <td>japanese</td>\n",
       "      <td>San Francisco, CA</td>\n",
       "      <td>508</td>\n",
       "      <td>(415) 386-8008</td>\n",
       "      <td>$$</td>\n",
       "      <td>[('5 star rating', '7/4/2020'), ('5 star ratin...</td>\n",
       "      <td>Daigo Sushi</td>\n",
       "      <td>https://www.yelp.com/biz/daigo-sushi-san-franc...</td>\n",
       "    </tr>\n",
       "    <tr>\n",
       "      <th>2</th>\n",
       "      <td>310 Linden Ave, South San Francisco, CA 94080</td>\n",
       "      <td>4.0</td>\n",
       "      <td>{'Mon': '11:30 am - 2:30 pm', 'Tue': '11:30 am...</td>\n",
       "      <td>Sushi Bars,Japanese</td>\n",
       "      <td>{'Delivery': True, 'Takeout': True}</td>\n",
       "      <td>Powered by HDScores</td>\n",
       "      <td>Elite '2020</td>\n",
       "      <td>japanese</td>\n",
       "      <td>San Francisco, CA</td>\n",
       "      <td>710</td>\n",
       "      <td>(650) 873-1084</td>\n",
       "      <td>$$</td>\n",
       "      <td>[('1 star rating', '7/16/2020'), ('5 star rati...</td>\n",
       "      <td>Amami San Sushi</td>\n",
       "      <td>https://www.yelp.com/biz/amami-san-sushi-south...</td>\n",
       "    </tr>\n",
       "    <tr>\n",
       "      <th>3</th>\n",
       "      <td>307 Kearny St, Ste 204, San Francisco, CA 94108</td>\n",
       "      <td>4.0</td>\n",
       "      <td>{'Mon': '11:00 am - 7:00 pm', 'Tue': '11:00 am...</td>\n",
       "      <td>Japanese Curry</td>\n",
       "      <td>{'Outdoor seating': True, 'Delivery': True, 'T...</td>\n",
       "      <td>Powered by HDScores</td>\n",
       "      <td>Elite '2020</td>\n",
       "      <td>japanese</td>\n",
       "      <td>San Francisco, CA</td>\n",
       "      <td>1722</td>\n",
       "      <td>(415) 773-1101</td>\n",
       "      <td>$$</td>\n",
       "      <td>[('2 star rating', '7/16/2020'), ('5 star rati...</td>\n",
       "      <td>Muracci's Japanese Curry &amp; Grill</td>\n",
       "      <td>https://www.yelp.com/biz/muraccis-japanese-cur...</td>\n",
       "    </tr>\n",
       "    <tr>\n",
       "      <th>4</th>\n",
       "      <td>3409 Geary Blvd, San Francisco, CA 94118</td>\n",
       "      <td>4.0</td>\n",
       "      <td>{'Mon': '11:30 am - 2:30 pm', 'Tue': '11:30 am...</td>\n",
       "      <td>Sushi Bars,Ramen,Izakaya</td>\n",
       "      <td>{'Delivery': True, 'Takeout': True}</td>\n",
       "      <td>Posted on June 7, 2020</td>\n",
       "      <td>\"We are currently open for TAKE OUT,We offer L...</td>\n",
       "      <td>japanese</td>\n",
       "      <td>San Francisco, CA</td>\n",
       "      <td>768</td>\n",
       "      <td>(415) 742-4309</td>\n",
       "      <td>$$</td>\n",
       "      <td>[('5 star rating', '7/20/2020'), ('5 star rati...</td>\n",
       "      <td>Kaiju Eats Ramen and Izakaya</td>\n",
       "      <td>https://www.yelp.com/biz/kaiju-eats-ramen-and-...</td>\n",
       "    </tr>\n",
       "  </tbody>\n",
       "</table>\n",
       "</div>"
      ],
      "text/plain": [
       "                                           address  avg_rating  \\\n",
       "0            1283 9th Ave, San Francisco, CA 94122         4.0   \n",
       "1         2450 Clement St, San Francisco, CA 94121         4.0   \n",
       "2    310 Linden Ave, South San Francisco, CA 94080         4.0   \n",
       "3  307 Kearny St, Ste 204, San Francisco, CA 94108         4.0   \n",
       "4         3409 Geary Blvd, San Francisco, CA 94118         4.0   \n",
       "\n",
       "                                      business_hours  \\\n",
       "0  {'Mon': 'Closed', 'Tue': 'Closed', 'Wed': '11:...   \n",
       "1  {'Mon': '4:00 pm - 8:30 pm', 'Tue': 'Closed', ...   \n",
       "2  {'Mon': '11:30 am - 2:30 pm', 'Tue': '11:30 am...   \n",
       "3  {'Mon': '11:00 am - 7:00 pm', 'Tue': '11:00 am...   \n",
       "4  {'Mon': '11:30 am - 2:30 pm', 'Tue': '11:30 am...   \n",
       "\n",
       "                   category  \\\n",
       "0       Sushi Bars,Japanese   \n",
       "1       Japanese,Sushi Bars   \n",
       "2       Sushi Bars,Japanese   \n",
       "3            Japanese Curry   \n",
       "4  Sushi Bars,Ramen,Izakaya   \n",
       "\n",
       "                                      covid_services  \\\n",
       "0                                  {'Takeout': True}   \n",
       "1                {'Delivery': True, 'Takeout': True}   \n",
       "2                {'Delivery': True, 'Takeout': True}   \n",
       "3  {'Outdoor seating': True, 'Delivery': True, 'T...   \n",
       "4                {'Delivery': True, 'Takeout': True}   \n",
       "\n",
       "          covid_update_time  \\\n",
       "0    Posted on May 27, 2020   \n",
       "1  Posted on April 26, 2020   \n",
       "2       Powered by HDScores   \n",
       "3       Powered by HDScores   \n",
       "4    Posted on June 7, 2020   \n",
       "\n",
       "                                  covid_updates_text   cuisine  \\\n",
       "0  \"We are currently open for TAKEOUT only on Wed...  japanese   \n",
       "1  \"Sorry to keep you waiting. We finally finishe...  japanese   \n",
       "2                                        Elite '2020  japanese   \n",
       "3                                        Elite '2020  japanese   \n",
       "4  \"We are currently open for TAKE OUT,We offer L...  japanese   \n",
       "\n",
       "            location  num_reviews       phone_num price_range  \\\n",
       "0  San Francisco, CA         1804  (415) 566-1770          $$   \n",
       "1  San Francisco, CA          508  (415) 386-8008          $$   \n",
       "2  San Francisco, CA          710  (650) 873-1084          $$   \n",
       "3  San Francisco, CA         1722  (415) 773-1101          $$   \n",
       "4  San Francisco, CA          768  (415) 742-4309          $$   \n",
       "\n",
       "                                      recent_reviews  \\\n",
       "0  [('5 star rating', '7/22/2020'), ('4 star rati...   \n",
       "1  [('5 star rating', '7/4/2020'), ('5 star ratin...   \n",
       "2  [('1 star rating', '7/16/2020'), ('5 star rati...   \n",
       "3  [('2 star rating', '7/16/2020'), ('5 star rati...   \n",
       "4  [('5 star rating', '7/20/2020'), ('5 star rati...   \n",
       "\n",
       "                    restaurant_name  \\\n",
       "0                             Ebisu   \n",
       "1                       Daigo Sushi   \n",
       "2                   Amami San Sushi   \n",
       "3  Muracci's Japanese Curry & Grill   \n",
       "4      Kaiju Eats Ramen and Izakaya   \n",
       "\n",
       "                                                 url  \n",
       "0  https://www.yelp.com/biz/ebisu-san-francisco?o...  \n",
       "1  https://www.yelp.com/biz/daigo-sushi-san-franc...  \n",
       "2  https://www.yelp.com/biz/amami-san-sushi-south...  \n",
       "3  https://www.yelp.com/biz/muraccis-japanese-cur...  \n",
       "4  https://www.yelp.com/biz/kaiju-eats-ramen-and-...  "
      ]
     },
     "execution_count": 786,
     "metadata": {},
     "output_type": "execute_result"
    }
   ],
   "source": [
    "df.head()"
   ]
  },
  {
   "cell_type": "code",
   "execution_count": 704,
   "metadata": {},
   "outputs": [
    {
     "data": {
      "text/plain": [
       "(4936, 15)"
      ]
     },
     "execution_count": 704,
     "metadata": {},
     "output_type": "execute_result"
    }
   ],
   "source": [
    "df.shape"
   ]
  },
  {
   "cell_type": "code",
   "execution_count": 705,
   "metadata": {},
   "outputs": [
    {
     "data": {
      "text/plain": [
       "address                object\n",
       "avg_rating            float64\n",
       "business_hours         object\n",
       "category               object\n",
       "covid_services         object\n",
       "covid_update_time      object\n",
       "covid_updates_text     object\n",
       "cuisine                object\n",
       "location               object\n",
       "num_reviews             int64\n",
       "phone_num              object\n",
       "price_range            object\n",
       "recent_reviews         object\n",
       "restaurant_name        object\n",
       "url                    object\n",
       "dtype: object"
      ]
     },
     "execution_count": 705,
     "metadata": {},
     "output_type": "execute_result"
    }
   ],
   "source": [
    "df.dtypes"
   ]
  },
  {
   "cell_type": "markdown",
   "metadata": {},
   "source": [
    "### Handling Missin Data"
   ]
  },
  {
   "cell_type": "code",
   "execution_count": 787,
   "metadata": {},
   "outputs": [
    {
     "data": {
      "text/plain": [
       "address                 2\n",
       "avg_rating             30\n",
       "business_hours          0\n",
       "category                2\n",
       "covid_services          0\n",
       "covid_update_time     135\n",
       "covid_updates_text    160\n",
       "cuisine                 0\n",
       "location                0\n",
       "num_reviews             0\n",
       "phone_num             128\n",
       "price_range           504\n",
       "recent_reviews         70\n",
       "restaurant_name         2\n",
       "url                     0\n",
       "dtype: int64"
      ]
     },
     "execution_count": 787,
     "metadata": {},
     "output_type": "execute_result"
    }
   ],
   "source": [
    "np.sum(df.isnull())"
   ]
  },
  {
   "cell_type": "markdown",
   "metadata": {},
   "source": [
    "- Dropping rows with missing avg_rating, recent_reviews or category since the analysis centers around those variables"
   ]
  },
  {
   "cell_type": "code",
   "execution_count": 788,
   "metadata": {},
   "outputs": [
    {
     "data": {
      "text/plain": [
       "(4866, 15)"
      ]
     },
     "execution_count": 788,
     "metadata": {},
     "output_type": "execute_result"
    }
   ],
   "source": [
    "df.dropna(subset=['recent_reviews','avg_rating', 'category'], inplace=True)\n",
    "df.shape"
   ]
  },
  {
   "cell_type": "code",
   "execution_count": 789,
   "metadata": {},
   "outputs": [
    {
     "data": {
      "text/plain": [
       "(4742, 15)"
      ]
     },
     "execution_count": 789,
     "metadata": {},
     "output_type": "execute_result"
    }
   ],
   "source": [
    "# Also filtering out rows where num_review <10 \n",
    "df = df[df.num_reviews >= 10]\n",
    "df.shape"
   ]
  },
  {
   "cell_type": "markdown",
   "metadata": {},
   "source": [
    "### Data Cleaning & Variable Type Conversion"
   ]
  },
  {
   "cell_type": "code",
   "execution_count": 710,
   "metadata": {},
   "outputs": [
    {
     "data": {
      "text/plain": [
       "address                object\n",
       "avg_rating            float64\n",
       "business_hours         object\n",
       "category               object\n",
       "covid_services         object\n",
       "covid_update_time      object\n",
       "covid_updates_text     object\n",
       "cuisine                object\n",
       "location               object\n",
       "num_reviews             int64\n",
       "phone_num              object\n",
       "price_range            object\n",
       "recent_reviews         object\n",
       "restaurant_name        object\n",
       "url                    object\n",
       "dtype: object"
      ]
     },
     "execution_count": 710,
     "metadata": {},
     "output_type": "execute_result"
    }
   ],
   "source": [
    "df.loc[[0]].dtypes"
   ]
  },
  {
   "cell_type": "code",
   "execution_count": 711,
   "metadata": {},
   "outputs": [
    {
     "name": "stdout",
     "output_type": "stream",
     "text": [
      "<class 'str'>\n",
      "<class 'str'>\n",
      "<class 'str'>\n"
     ]
    }
   ],
   "source": [
    "print(type(df.business_hours[0]))\n",
    "print(type(df.covid_services[0]))\n",
    "print(type(df.recent_reviews[0]))"
   ]
  },
  {
   "cell_type": "code",
   "execution_count": 712,
   "metadata": {},
   "outputs": [
    {
     "name": "stdout",
     "output_type": "stream",
     "text": [
      "<class 'dict'>\n",
      "<class 'dict'>\n",
      "<class 'list'>\n"
     ]
    }
   ],
   "source": [
    "import ast\n",
    "ast.literal_eval(df.recent_reviews[0])\n",
    "print(type(ast.literal_eval(df.business_hours[0])))\n",
    "print(type(ast.literal_eval(df.covid_services[0])))\n",
    "print(type(ast.literal_eval(df.recent_reviews[0])))\n"
   ]
  },
  {
   "cell_type": "code",
   "execution_count": 790,
   "metadata": {},
   "outputs": [],
   "source": [
    "df.recent_reviews = df.recent_reviews.apply(lambda x: ast.literal_eval(x))\n",
    "df.business_hours = df.business_hours.apply(lambda x: ast.literal_eval(x))\n",
    "df.covid_services = df.covid_services.apply(lambda x: ast.literal_eval(x))"
   ]
  },
  {
   "cell_type": "code",
   "execution_count": 791,
   "metadata": {},
   "outputs": [],
   "source": [
    "df.category = df.category.map(lambda x: x.split(','))"
   ]
  },
  {
   "cell_type": "code",
   "execution_count": 792,
   "metadata": {},
   "outputs": [
    {
     "data": {
      "text/plain": [
       "0    $$\n",
       "1    $$\n",
       "2    $$\n",
       "3    $$\n",
       "4    $$\n",
       "Name: price_range, dtype: object"
      ]
     },
     "execution_count": 792,
     "metadata": {},
     "output_type": "execute_result"
    }
   ],
   "source": [
    "df.price_range.head(5)"
   ]
  },
  {
   "cell_type": "code",
   "execution_count": 793,
   "metadata": {},
   "outputs": [
    {
     "data": {
      "text/plain": [
       "address                 0\n",
       "avg_rating              0\n",
       "business_hours          0\n",
       "category                0\n",
       "covid_services          0\n",
       "covid_update_time      36\n",
       "covid_updates_text    105\n",
       "cuisine                 0\n",
       "location                0\n",
       "num_reviews             0\n",
       "phone_num              86\n",
       "price_range           321\n",
       "recent_reviews          0\n",
       "restaurant_name         0\n",
       "url                     0\n",
       "dtype: int64"
      ]
     },
     "execution_count": 793,
     "metadata": {},
     "output_type": "execute_result"
    }
   ],
   "source": [
    "np.sum(df.isnull())"
   ]
  },
  {
   "cell_type": "code",
   "execution_count": 780,
   "metadata": {},
   "outputs": [],
   "source": [
    "df.price_range = df['price_range'].to_string()"
   ]
  },
  {
   "cell_type": "code",
   "execution_count": 781,
   "metadata": {},
   "outputs": [],
   "source": [
    "# Convert price range to integer value \n",
    "\n",
    "df.price_range = df.price_range.map(lambda x: len(x) if x!='' else np.nan)\n"
   ]
  },
  {
   "cell_type": "code",
   "execution_count": 782,
   "metadata": {},
   "outputs": [
    {
     "data": {
      "text/plain": [
       "61645.0"
      ]
     },
     "execution_count": 782,
     "metadata": {},
     "output_type": "execute_result"
    }
   ],
   "source": [
    "df.price_range.mean()"
   ]
  },
  {
   "cell_type": "markdown",
   "metadata": {},
   "source": [
    "### Derive new columns"
   ]
  },
  {
   "cell_type": "code",
   "execution_count": 731,
   "metadata": {
    "scrolled": false
   },
   "outputs": [
    {
     "data": {
      "text/html": [
       "<div>\n",
       "<style scoped>\n",
       "    .dataframe tbody tr th:only-of-type {\n",
       "        vertical-align: middle;\n",
       "    }\n",
       "\n",
       "    .dataframe tbody tr th {\n",
       "        vertical-align: top;\n",
       "    }\n",
       "\n",
       "    .dataframe thead th {\n",
       "        text-align: right;\n",
       "    }\n",
       "</style>\n",
       "<table border=\"1\" class=\"dataframe\">\n",
       "  <thead>\n",
       "    <tr style=\"text-align: right;\">\n",
       "      <th></th>\n",
       "      <th>address</th>\n",
       "      <th>avg_rating</th>\n",
       "      <th>business_hours</th>\n",
       "      <th>category</th>\n",
       "      <th>covid_services</th>\n",
       "      <th>covid_update_time</th>\n",
       "      <th>covid_updates_text</th>\n",
       "      <th>cuisine</th>\n",
       "      <th>location</th>\n",
       "      <th>num_reviews</th>\n",
       "      <th>phone_num</th>\n",
       "      <th>price_range</th>\n",
       "      <th>recent_reviews</th>\n",
       "      <th>restaurant_name</th>\n",
       "      <th>url</th>\n",
       "    </tr>\n",
       "  </thead>\n",
       "  <tbody>\n",
       "    <tr>\n",
       "      <th>0</th>\n",
       "      <td>1283 9th Ave, San Francisco, CA 94122</td>\n",
       "      <td>4.0</td>\n",
       "      <td>{'Mon': 'Closed', 'Tue': 'Closed', 'Wed': '11:...</td>\n",
       "      <td>[Sushi Bars, Japanese]</td>\n",
       "      <td>{'Takeout': True}</td>\n",
       "      <td>Posted on May 27, 2020</td>\n",
       "      <td>\"We are currently open for TAKEOUT only on Wed...</td>\n",
       "      <td>japanese</td>\n",
       "      <td>San Francisco, CA</td>\n",
       "      <td>1804</td>\n",
       "      <td>(415) 566-1770</td>\n",
       "      <td>$$</td>\n",
       "      <td>[(5 star rating, 7/22/2020), (4 star rating, 7...</td>\n",
       "      <td>Ebisu</td>\n",
       "      <td>https://www.yelp.com/biz/ebisu-san-francisco?o...</td>\n",
       "    </tr>\n",
       "    <tr>\n",
       "      <th>1</th>\n",
       "      <td>2450 Clement St, San Francisco, CA 94121</td>\n",
       "      <td>4.0</td>\n",
       "      <td>{'Mon': '4:00 pm - 8:30 pm', 'Tue': 'Closed', ...</td>\n",
       "      <td>[Japanese, Sushi Bars]</td>\n",
       "      <td>{'Delivery': True, 'Takeout': True}</td>\n",
       "      <td>Posted on April 26, 2020</td>\n",
       "      <td>\"Sorry to keep you waiting. We finally finishe...</td>\n",
       "      <td>japanese</td>\n",
       "      <td>San Francisco, CA</td>\n",
       "      <td>508</td>\n",
       "      <td>(415) 386-8008</td>\n",
       "      <td>$$</td>\n",
       "      <td>[(5 star rating, 7/4/2020), (5 star rating, 7/...</td>\n",
       "      <td>Daigo Sushi</td>\n",
       "      <td>https://www.yelp.com/biz/daigo-sushi-san-franc...</td>\n",
       "    </tr>\n",
       "    <tr>\n",
       "      <th>2</th>\n",
       "      <td>310 Linden Ave, South San Francisco, CA 94080</td>\n",
       "      <td>4.0</td>\n",
       "      <td>{'Mon': '11:30 am - 2:30 pm', 'Tue': '11:30 am...</td>\n",
       "      <td>[Sushi Bars, Japanese]</td>\n",
       "      <td>{'Delivery': True, 'Takeout': True}</td>\n",
       "      <td>Powered by HDScores</td>\n",
       "      <td>Elite '2020</td>\n",
       "      <td>japanese</td>\n",
       "      <td>San Francisco, CA</td>\n",
       "      <td>710</td>\n",
       "      <td>(650) 873-1084</td>\n",
       "      <td>$$</td>\n",
       "      <td>[(1 star rating, 7/16/2020), (5 star rating, 7...</td>\n",
       "      <td>Amami San Sushi</td>\n",
       "      <td>https://www.yelp.com/biz/amami-san-sushi-south...</td>\n",
       "    </tr>\n",
       "  </tbody>\n",
       "</table>\n",
       "</div>"
      ],
      "text/plain": [
       "                                         address  avg_rating  \\\n",
       "0          1283 9th Ave, San Francisco, CA 94122         4.0   \n",
       "1       2450 Clement St, San Francisco, CA 94121         4.0   \n",
       "2  310 Linden Ave, South San Francisco, CA 94080         4.0   \n",
       "\n",
       "                                      business_hours                category  \\\n",
       "0  {'Mon': 'Closed', 'Tue': 'Closed', 'Wed': '11:...  [Sushi Bars, Japanese]   \n",
       "1  {'Mon': '4:00 pm - 8:30 pm', 'Tue': 'Closed', ...  [Japanese, Sushi Bars]   \n",
       "2  {'Mon': '11:30 am - 2:30 pm', 'Tue': '11:30 am...  [Sushi Bars, Japanese]   \n",
       "\n",
       "                        covid_services         covid_update_time  \\\n",
       "0                    {'Takeout': True}    Posted on May 27, 2020   \n",
       "1  {'Delivery': True, 'Takeout': True}  Posted on April 26, 2020   \n",
       "2  {'Delivery': True, 'Takeout': True}       Powered by HDScores   \n",
       "\n",
       "                                  covid_updates_text   cuisine  \\\n",
       "0  \"We are currently open for TAKEOUT only on Wed...  japanese   \n",
       "1  \"Sorry to keep you waiting. We finally finishe...  japanese   \n",
       "2                                        Elite '2020  japanese   \n",
       "\n",
       "            location  num_reviews       phone_num price_range  \\\n",
       "0  San Francisco, CA         1804  (415) 566-1770          $$   \n",
       "1  San Francisco, CA          508  (415) 386-8008          $$   \n",
       "2  San Francisco, CA          710  (650) 873-1084          $$   \n",
       "\n",
       "                                      recent_reviews  restaurant_name  \\\n",
       "0  [(5 star rating, 7/22/2020), (4 star rating, 7...            Ebisu   \n",
       "1  [(5 star rating, 7/4/2020), (5 star rating, 7/...      Daigo Sushi   \n",
       "2  [(1 star rating, 7/16/2020), (5 star rating, 7...  Amami San Sushi   \n",
       "\n",
       "                                                 url  \n",
       "0  https://www.yelp.com/biz/ebisu-san-francisco?o...  \n",
       "1  https://www.yelp.com/biz/daigo-sushi-san-franc...  \n",
       "2  https://www.yelp.com/biz/amami-san-sushi-south...  "
      ]
     },
     "execution_count": 731,
     "metadata": {},
     "output_type": "execute_result"
    }
   ],
   "source": [
    "df.head(3)"
   ]
  },
  {
   "cell_type": "markdown",
   "metadata": {},
   "source": [
    "- New column variables: count of recent ratings (after 3/1/2020) and avg_recent_rating"
   ]
  },
  {
   "cell_type": "code",
   "execution_count": 794,
   "metadata": {},
   "outputs": [],
   "source": [
    "def split_recent_reviews(rr, date_cut = pd.to_datetime('3/1/2020')):\n",
    "    try:\n",
    "        ratings, dates = zip(*rr)\n",
    "    except Exception as e:\n",
    "        print(f\"Trouble with {rr} here is: {e}\")\n",
    "        return pd.Series(dict(mean_rating = np.nan, n_ratings = np.nan))\n",
    "    dates = pd.to_datetime(dates)\n",
    "    keep_idxs = dates >= date_cut\n",
    "    ratings = pd.Series(ratings)[keep_idxs].apply(lambda x: int(x[0]))\n",
    "    dates = dates[keep_idxs]\n",
    "    mean_rating = ratings.mean()\n",
    "    n_ratings = ratings.shape[0]\n",
    "    return pd.Series(dict(mean_rating = mean_rating, n_ratings = n_ratings))"
   ]
  },
  {
   "cell_type": "code",
   "execution_count": 795,
   "metadata": {},
   "outputs": [],
   "source": [
    "df[['recent_rating','num_recent_rating']] = df.recent_reviews.apply(split_recent_reviews)[['mean_rating','n_ratings']]"
   ]
  },
  {
   "cell_type": "code",
   "execution_count": 796,
   "metadata": {},
   "outputs": [
    {
     "data": {
      "text/plain": [
       "(3387, 17)"
      ]
     },
     "execution_count": 796,
     "metadata": {},
     "output_type": "execute_result"
    }
   ],
   "source": [
    "df[df.num_recent_rating >3].shape"
   ]
  },
  {
   "cell_type": "code",
   "execution_count": null,
   "metadata": {},
   "outputs": [],
   "source": [
    "# # Convert recent reviews to the correct data types: float and datetime and compute recent average review rating\n",
    "# # Recent defined as after 3/1/2020\n",
    "\n",
    "# from datetime import datetime\n",
    "# for i in range(df.shape[0]):\n",
    "#     for x in range(len(df.recent_reviews.loc[i])):\n",
    "#         df.recent_reviews.loc[i][x] = list(df.recent_reviews.loc[i][x])\n",
    "#         df.recent_reviews.loc[i][x][0] = float(item[0].replace(' star rating', ''))\n",
    "#         df.recent_reviews.loc[i][x][1] = datetime.strptime(item[1], '%m/%d/%Y')"
   ]
  },
  {
   "cell_type": "markdown",
   "metadata": {},
   "source": [
    "- Create Covid service related columns: delivery, takeout, outdoor_seating, sit-down_dining, curbside_pickup, safety_measure as boolean variable "
   ]
  },
  {
   "cell_type": "code",
   "execution_count": 797,
   "metadata": {},
   "outputs": [],
   "source": [
    "df['delivery'] = df.covid_services.map(lambda x: \"Delivery\" in x.keys() and x['Delivery']==True)\n",
    "df['takeout'] = df.covid_services.map(lambda x: \"Takeout\" in x.keys() and x['Takeout'] ==True)\n",
    "df['outdoor_seating'] = df.covid_services.map(lambda x: \"Outdoor seating\" in x.keys() and x['Outdoor seating'] ==True)\n",
    "df['sit-down_dining'] = df.covid_services.map(lambda x: \"Sit-down dining\" in x.keys() and x['Sit-down dining'] ==True)\n",
    "df['curbside_pickup'] = df.covid_services.map(lambda x: \"Curbside pickup\" in x.keys() and x['Curbside pickup'] ==True)\n",
    "df['safety_measure'] = df.covid_services.map(lambda x: set(x.keys()) & \\\n",
    "    set(['Contactless payments', 'Masks required', 'Staff wears gloves', 'Staff wears masks', \\\n",
    "         'Limited capacity', 'Hand sanitizer provided', 'Social distancing enforced', 'Temperature checks']) != set())\n"
   ]
  },
  {
   "cell_type": "code",
   "execution_count": 804,
   "metadata": {},
   "outputs": [
    {
     "data": {
      "text/plain": [
       "(4484, 23)"
      ]
     },
     "execution_count": 804,
     "metadata": {},
     "output_type": "execute_result"
    }
   ],
   "source": [
    "# Filtering out rows where number of recent rating = 0\n",
    "df = df[df.num_recent_rating > 0]\n",
    "df.shape"
   ]
  },
  {
   "cell_type": "markdown",
   "metadata": {},
   "source": [
    "- Create new variable delta_rating"
   ]
  },
  {
   "cell_type": "code",
   "execution_count": 806,
   "metadata": {},
   "outputs": [],
   "source": [
    "df['delta_rating'] = df['recent_rating'] - df['avg_rating']"
   ]
  },
  {
   "cell_type": "code",
   "execution_count": null,
   "metadata": {},
   "outputs": [],
   "source": []
  },
  {
   "cell_type": "code",
   "execution_count": 808,
   "metadata": {},
   "outputs": [
    {
     "data": {
      "text/plain": [
       "(array([  22.,   22.,   44.,  127.,  426., 1439., 1656.,  609.,  124.,\n",
       "          15.]),\n",
       " array([-3.5, -2.9, -2.3, -1.7, -1.1, -0.5,  0.1,  0.7,  1.3,  1.9,  2.5]),\n",
       " <a list of 10 Patch objects>)"
      ]
     },
     "execution_count": 808,
     "metadata": {},
     "output_type": "execute_result"
    },
    {
     "data": {
      "image/png": "[encoded data removed]",
      "text/plain": [
       "<Figure size 432x288 with 1 Axes>"
      ]
     },
     "metadata": {},
     "output_type": "display_data"
    }
   ],
   "source": [
    "plt.hist(df.delta_rating)"
   ]
  },
  {
   "cell_type": "code",
   "execution_count": null,
   "metadata": {},
   "outputs": [],
   "source": []
  },
  {
   "cell_type": "code",
   "execution_count": null,
   "metadata": {},
   "outputs": [],
   "source": []
  },
  {
   "cell_type": "markdown",
   "metadata": {},
   "source": [
    "### Exploratory Data Analysis "
   ]
  },
  {
   "cell_type": "markdown",
   "metadata": {},
   "source": [
    "- By cuisine type "
   ]
  },
  {
   "cell_type": "code",
   "execution_count": 665,
   "metadata": {},
   "outputs": [],
   "source": [
    "group = df.groupby('cuisine')"
   ]
  },
  {
   "cell_type": "code",
   "execution_count": null,
   "metadata": {
    "scrolled": true
   },
   "outputs": [],
   "source": [
    "group.agg('mean')['delivery']"
   ]
  },
  {
   "cell_type": "code",
   "execution_count": null,
   "metadata": {},
   "outputs": [],
   "source": [
    "data[data['item'] == 'call'].groupby('month').agg(\n",
    "    # Get max of the duration column for each group\n",
    "    max_duration=('duration', max),\n",
    "    # Get min of the duration column for each group\n",
    "    min_duration=('duration', min),\n",
    "    # Get sum of the duration column for each group\n",
    "    total_duration=('duration', sum),\n",
    "    # Apply a lambda to date column\n",
    "    num_days=(\"date\", lambda x: (max(x) - min(x)).days)    \n",
    ")"
   ]
  },
  {
   "cell_type": "code",
   "execution_count": 672,
   "metadata": {},
   "outputs": [
    {
     "data": {
      "text/plain": [
       "4421"
      ]
     },
     "execution_count": 672,
     "metadata": {},
     "output_type": "execute_result"
    }
   ],
   "source": [
    "df.delivery.count()"
   ]
  },
  {
   "cell_type": "code",
   "execution_count": 676,
   "metadata": {},
   "outputs": [
    {
     "name": "stderr",
     "output_type": "stream",
     "text": [
      "/opt/anaconda3/lib/python3.7/site-packages/ipykernel_launcher.py:1: RuntimeWarning: invalid value encountered in long_scalars\n",
      "  \"\"\"Entry point for launching an IPython kernel.\n",
      "/opt/anaconda3/lib/python3.7/site-packages/ipykernel_launcher.py:2: RuntimeWarning: invalid value encountered in long_scalars\n",
      "  \n",
      "/opt/anaconda3/lib/python3.7/site-packages/ipykernel_launcher.py:3: RuntimeWarning: invalid value encountered in long_scalars\n",
      "  This is separate from the ipykernel package so we can avoid doing imports until\n",
      "/opt/anaconda3/lib/python3.7/site-packages/ipykernel_launcher.py:4: RuntimeWarning: invalid value encountered in long_scalars\n",
      "  after removing the cwd from sys.path.\n"
     ]
    },
    {
     "data": {
      "text/html": [
       "<div>\n",
       "<style scoped>\n",
       "    .dataframe tbody tr th:only-of-type {\n",
       "        vertical-align: middle;\n",
       "    }\n",
       "\n",
       "    .dataframe tbody tr th {\n",
       "        vertical-align: top;\n",
       "    }\n",
       "\n",
       "    .dataframe thead th {\n",
       "        text-align: right;\n",
       "    }\n",
       "</style>\n",
       "<table border=\"1\" class=\"dataframe\">\n",
       "  <thead>\n",
       "    <tr style=\"text-align: right;\">\n",
       "      <th></th>\n",
       "      <th>percent_delivery</th>\n",
       "      <th>percent_takeout</th>\n",
       "      <th>percent_outdoor_seating</th>\n",
       "      <th>percent_safety_measure</th>\n",
       "    </tr>\n",
       "    <tr>\n",
       "      <th>cuisine</th>\n",
       "      <th></th>\n",
       "      <th></th>\n",
       "      <th></th>\n",
       "      <th></th>\n",
       "    </tr>\n",
       "  </thead>\n",
       "  <tbody>\n",
       "    <tr>\n",
       "      <th>american</th>\n",
       "      <td>0.741018</td>\n",
       "      <td>0.835329</td>\n",
       "      <td>0.130240</td>\n",
       "      <td>0.205090</td>\n",
       "    </tr>\n",
       "    <tr>\n",
       "      <th>chinese</th>\n",
       "      <td>0.713846</td>\n",
       "      <td>0.795385</td>\n",
       "      <td>0.047692</td>\n",
       "      <td>0.086154</td>\n",
       "    </tr>\n",
       "    <tr>\n",
       "      <th>italian</th>\n",
       "      <td>0.700599</td>\n",
       "      <td>0.773952</td>\n",
       "      <td>0.103293</td>\n",
       "      <td>0.161677</td>\n",
       "    </tr>\n",
       "    <tr>\n",
       "      <th>japanese</th>\n",
       "      <td>0.728943</td>\n",
       "      <td>0.800919</td>\n",
       "      <td>0.093415</td>\n",
       "      <td>0.168453</td>\n",
       "    </tr>\n",
       "    <tr>\n",
       "      <th>mediterranean</th>\n",
       "      <td>0.779116</td>\n",
       "      <td>0.809237</td>\n",
       "      <td>0.074297</td>\n",
       "      <td>0.132530</td>\n",
       "    </tr>\n",
       "    <tr>\n",
       "      <th>mexican</th>\n",
       "      <td>0.713166</td>\n",
       "      <td>0.819749</td>\n",
       "      <td>0.083072</td>\n",
       "      <td>0.098746</td>\n",
       "    </tr>\n",
       "    <tr>\n",
       "      <th>thai</th>\n",
       "      <td>0.825077</td>\n",
       "      <td>0.874613</td>\n",
       "      <td>0.085139</td>\n",
       "      <td>0.148607</td>\n",
       "    </tr>\n",
       "  </tbody>\n",
       "</table>\n",
       "</div>"
      ],
      "text/plain": [
       "               percent_delivery  percent_takeout  percent_outdoor_seating  \\\n",
       "cuisine                                                                     \n",
       "american               0.741018         0.835329                 0.130240   \n",
       "chinese                0.713846         0.795385                 0.047692   \n",
       "italian                0.700599         0.773952                 0.103293   \n",
       "japanese               0.728943         0.800919                 0.093415   \n",
       "mediterranean          0.779116         0.809237                 0.074297   \n",
       "mexican                0.713166         0.819749                 0.083072   \n",
       "thai                   0.825077         0.874613                 0.085139   \n",
       "\n",
       "               percent_safety_measure  \n",
       "cuisine                                \n",
       "american                     0.205090  \n",
       "chinese                      0.086154  \n",
       "italian                      0.161677  \n",
       "japanese                     0.168453  \n",
       "mediterranean                0.132530  \n",
       "mexican                      0.098746  \n",
       "thai                         0.148607  "
      ]
     },
     "execution_count": 676,
     "metadata": {},
     "output_type": "execute_result"
    }
   ],
   "source": [
    "group.agg(percent_delivery=(\"delivery\", lambda x: x[x==True].count()/x.count()),\n",
    "         percent_takeout =(\"takeout\", lambda x: x[x==True].count()/x.count()),\n",
    "        percent_outdoor_seating =(\"outdoor_seating\", lambda x: x[x==True].count()/x.count()),\n",
    "         percent_safety_measure = (\"safety_measure\", lambda x: x[x==True].count()/x.count()))"
   ]
  },
  {
   "cell_type": "code",
   "execution_count": 632,
   "metadata": {},
   "outputs": [
    {
     "data": {
      "text/plain": [
       "Index(['address', 'avg_rating', 'business_hours', 'category', 'covid_services',\n",
       "       'covid_update_time', 'covid_updates_text', 'cuisine', 'location',\n",
       "       'num_reviews', 'phone_num', 'price_range', 'recent_reviews',\n",
       "       'restaurant_name', 'url', 'delivery', 'takeout', 'outdoor_seating',\n",
       "       'sit-down_dining', 'curbside_pickup', 'safety_measure', 'dummy',\n",
       "       'delta_rating'],\n",
       "      dtype='object')"
      ]
     },
     "execution_count": 632,
     "metadata": {},
     "output_type": "execute_result"
    }
   ],
   "source": [
    "df.columns\n"
   ]
  },
  {
   "cell_type": "code",
   "execution_count": 652,
   "metadata": {},
   "outputs": [
    {
     "data": {
      "text/plain": [
       "0.7289433384379785"
      ]
     },
     "execution_count": 652,
     "metadata": {},
     "output_type": "execute_result"
    }
   ],
   "source": [
    "# Percentage of restaurants that offers delivery \n",
    "df.loc[df['cuisine']=='japanese'].delivery.mean()"
   ]
  },
  {
   "cell_type": "markdown",
   "metadata": {},
   "source": [
    "- By location"
   ]
  },
  {
   "cell_type": "code",
   "execution_count": 678,
   "metadata": {},
   "outputs": [],
   "source": [
    "loc_group = df.groupby('location')"
   ]
  },
  {
   "cell_type": "code",
   "execution_count": 679,
   "metadata": {},
   "outputs": [
    {
     "data": {
      "text/html": [
       "<div>\n",
       "<style scoped>\n",
       "    .dataframe tbody tr th:only-of-type {\n",
       "        vertical-align: middle;\n",
       "    }\n",
       "\n",
       "    .dataframe tbody tr th {\n",
       "        vertical-align: top;\n",
       "    }\n",
       "\n",
       "    .dataframe thead th {\n",
       "        text-align: right;\n",
       "    }\n",
       "</style>\n",
       "<table border=\"1\" class=\"dataframe\">\n",
       "  <thead>\n",
       "    <tr style=\"text-align: right;\">\n",
       "      <th></th>\n",
       "      <th>avg_rating</th>\n",
       "      <th>num_reviews</th>\n",
       "      <th>price_range</th>\n",
       "      <th>dummy</th>\n",
       "      <th>delta_rating</th>\n",
       "    </tr>\n",
       "    <tr>\n",
       "      <th>location</th>\n",
       "      <th></th>\n",
       "      <th></th>\n",
       "      <th></th>\n",
       "      <th></th>\n",
       "      <th></th>\n",
       "    </tr>\n",
       "  </thead>\n",
       "  <tbody>\n",
       "    <tr>\n",
       "      <th>Austin, TX</th>\n",
       "      <td>3.936410</td>\n",
       "      <td>371.659157</td>\n",
       "      <td>1.711483</td>\n",
       "      <td>3.5</td>\n",
       "      <td>0.436589</td>\n",
       "    </tr>\n",
       "    <tr>\n",
       "      <th>New York, NY</th>\n",
       "      <td>4.021580</td>\n",
       "      <td>523.666003</td>\n",
       "      <td>2.015272</td>\n",
       "      <td>3.5</td>\n",
       "      <td>0.521580</td>\n",
       "    </tr>\n",
       "    <tr>\n",
       "      <th>San Francisco, CA</th>\n",
       "      <td>3.923652</td>\n",
       "      <td>697.956465</td>\n",
       "      <td>1.925276</td>\n",
       "      <td>3.5</td>\n",
       "      <td>0.423652</td>\n",
       "    </tr>\n",
       "  </tbody>\n",
       "</table>\n",
       "</div>"
      ],
      "text/plain": [
       "                   avg_rating  num_reviews  price_range  dummy  delta_rating\n",
       "location                                                                    \n",
       "Austin, TX           3.936410   371.659157     1.711483    3.5      0.436589\n",
       "New York, NY         4.021580   523.666003     2.015272    3.5      0.521580\n",
       "San Francisco, CA    3.923652   697.956465     1.925276    3.5      0.423652"
      ]
     },
     "execution_count": 679,
     "metadata": {},
     "output_type": "execute_result"
    }
   ],
   "source": [
    "loc_group.mean()"
   ]
  },
  {
   "cell_type": "code",
   "execution_count": 629,
   "metadata": {},
   "outputs": [
    {
     "data": {
      "text/plain": [
       "Index(['address', 'avg_rating', 'business_hours', 'category', 'covid_services',\n",
       "       'covid_update_time', 'covid_updates_text', 'cuisine', 'location',\n",
       "       'num_reviews', 'phone_num', 'price_range', 'recent_reviews',\n",
       "       'restaurant_name', 'url', 'delivery', 'takeout', 'outdoor_seating',\n",
       "       'sit-down_dining', 'curbside_pickup', 'safety_measure', 'dummy',\n",
       "       'delta_rating'],\n",
       "      dtype='object')"
      ]
     },
     "execution_count": 629,
     "metadata": {},
     "output_type": "execute_result"
    }
   ],
   "source": []
  },
  {
   "cell_type": "code",
   "execution_count": null,
   "metadata": {},
   "outputs": [],
   "source": []
  },
  {
   "cell_type": "code",
   "execution_count": null,
   "metadata": {},
   "outputs": [],
   "source": []
  },
  {
   "cell_type": "code",
   "execution_count": 184,
   "metadata": {},
   "outputs": [
    {
     "data": {
      "text/plain": [
       "Text(0, 0.5, 'rating')"
      ]
     },
     "execution_count": 184,
     "metadata": {},
     "output_type": "execute_result"
    },
    {
     "data": {
      "image/png": "[encoded data removed]",
      "text/plain": [
       "<Figure size 432x288 with 1 Axes>"
      ]
     },
     "metadata": {},
     "output_type": "display_data"
    }
   ],
   "source": [
    "x = df[['location','avg_rating']]\n",
    "x.boxplot(by='location', column = 'avg_rating')\n",
    "plt.ylabel('rating')"
   ]
  },
  {
   "cell_type": "code",
   "execution_count": 432,
   "metadata": {},
   "outputs": [
    {
     "data": {
      "text/plain": [
       "Text(0, 0.5, 'price')"
      ]
     },
     "execution_count": 432,
     "metadata": {},
     "output_type": "execute_result"
    },
    {
     "data": {
      "image/png": "[encoded data removed]",
      "text/plain": [
       "<Figure size 432x288 with 1 Axes>"
      ]
     },
     "metadata": {},
     "output_type": "display_data"
    }
   ],
   "source": [
    "x = df[['location','price_range']]\n",
    "x.boxplot(by='location', column = 'price_range')\n",
    "plt.ylabel('price')"
   ]
  },
  {
   "cell_type": "code",
   "execution_count": 433,
   "metadata": {},
   "outputs": [
    {
     "data": {
      "text/plain": [
       "Text(0, 0.5, 'price')"
      ]
     },
     "execution_count": 433,
     "metadata": {},
     "output_type": "execute_result"
    },
    {
     "data": {
      "image/png": "[encoded data removed]",
      "text/plain": [
       "<Figure size 432x288 with 1 Axes>"
      ]
     },
     "metadata": {},
     "output_type": "display_data"
    }
   ],
   "source": [
    "x = df[['cuisine','price_range']]\n",
    "x.boxplot(by='cuisine', column = 'price_range')\n",
    "plt.ylabel('price')"
   ]
  },
  {
   "cell_type": "code",
   "execution_count": 434,
   "metadata": {},
   "outputs": [
    {
     "data": {
      "text/plain": [
       "(array([ 911.,    0.,    0., 3159.,    0.,    0.,  280.,    0.,    0.,\n",
       "          71.]),\n",
       " array([1. , 1.3, 1.6, 1.9, 2.2, 2.5, 2.8, 3.1, 3.4, 3.7, 4. ]),\n",
       " <a list of 10 Patch objects>)"
      ]
     },
     "execution_count": 434,
     "metadata": {},
     "output_type": "execute_result"
    },
    {
     "data": {
      "image/png": "[encoded data removed]",
      "text/plain": [
       "<Figure size 432x288 with 1 Axes>"
      ]
     },
     "metadata": {},
     "output_type": "display_data"
    }
   ],
   "source": [
    "plt.hist(df.price_range)"
   ]
  },
  {
   "cell_type": "code",
   "execution_count": 122,
   "metadata": {},
   "outputs": [
    {
     "data": {
      "text/plain": [
       "(array([1.000e+00, 7.000e+00, 4.100e+01, 0.000e+00, 1.940e+02, 9.180e+02,\n",
       "        0.000e+00, 2.385e+03, 1.081e+03, 1.150e+02]),\n",
       " array([1.5 , 1.85, 2.2 , 2.55, 2.9 , 3.25, 3.6 , 3.95, 4.3 , 4.65, 5.  ]),\n",
       " <a list of 10 Patch objects>)"
      ]
     },
     "execution_count": 122,
     "metadata": {},
     "output_type": "execute_result"
    },
    {
     "data": {
      "image/png": "[encoded data removed]",
      "text/plain": [
       "<Figure size 432x288 with 1 Axes>"
      ]
     },
     "metadata": {},
     "output_type": "display_data"
    }
   ],
   "source": [
    "plt.hist(df.avg_rating)"
   ]
  },
  {
   "cell_type": "code",
   "execution_count": 604,
   "metadata": {},
   "outputs": [
    {
     "data": {
      "text/plain": [
       "3.960981678353314"
      ]
     },
     "execution_count": 604,
     "metadata": {},
     "output_type": "execute_result"
    }
   ],
   "source": []
  },
  {
   "cell_type": "code",
   "execution_count": 124,
   "metadata": {},
   "outputs": [
    {
     "data": {
      "text/plain": [
       "(array([4.259e+03, 3.630e+02, 6.900e+01, 2.400e+01, 1.600e+01, 6.000e+00,\n",
       "        3.000e+00, 0.000e+00, 1.000e+00, 1.000e+00]),\n",
       " array([1.0000e+01, 1.1114e+03, 2.2128e+03, 3.3142e+03, 4.4156e+03,\n",
       "        5.5170e+03, 6.6184e+03, 7.7198e+03, 8.8212e+03, 9.9226e+03,\n",
       "        1.1024e+04]),\n",
       " <a list of 10 Patch objects>)"
      ]
     },
     "execution_count": 124,
     "metadata": {},
     "output_type": "execute_result"
    },
    {
     "data": {
      "image/png": "[encoded data removed]",
      "text/plain": [
       "<Figure size 432x288 with 1 Axes>"
      ]
     },
     "metadata": {},
     "output_type": "display_data"
    }
   ],
   "source": [
    "plt.hist(df.num_reviews, log = True)"
   ]
  },
  {
   "cell_type": "code",
   "execution_count": null,
   "metadata": {},
   "outputs": [],
   "source": []
  },
  {
   "cell_type": "code",
   "execution_count": null,
   "metadata": {},
   "outputs": [],
   "source": []
  },
  {
   "cell_type": "code",
   "execution_count": null,
   "metadata": {},
   "outputs": [],
   "source": []
  },
  {
   "cell_type": "code",
   "execution_count": null,
   "metadata": {},
   "outputs": [],
   "source": []
  }
 ],
 "metadata": {
  "kernelspec": {
   "display_name": "Python 3",
   "language": "python",
   "name": "python3"
  },
  "language_info": {
   "codemirror_mode": {
    "name": "ipython",
    "version": 3
   },
   "file_extension": ".py",
   "mimetype": "text/x-python",
   "name": "python",
   "nbconvert_exporter": "python",
   "pygments_lexer": "ipython3",
   "version": "3.7.6"
  }
 },
 "nbformat": 4,
 "nbformat_minor": 4
}
